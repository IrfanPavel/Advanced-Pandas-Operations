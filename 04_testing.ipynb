{
  "cells": [
    {
      "cell_type": "markdown",
      "metadata": {
        "id": "view-in-github",
        "colab_type": "text"
      },
      "source": [
        "<a href=\"https://colab.research.google.com/github/IrfanPavel/Advanced-Pandas-Operations/blob/main/04_testing.ipynb\" target=\"_parent\"><img src=\"https://colab.research.google.com/assets/colab-badge.svg\" alt=\"Open In Colab\"/></a>"
      ]
    },
    {
      "cell_type": "markdown",
      "metadata": {
        "id": "SrPJbfTBgo0A"
      },
      "source": [
        "# Testing for data analysis"
      ]
    },
    {
      "cell_type": "markdown",
      "metadata": {
        "id": "yd3VPSYCgo0C"
      },
      "source": [
        "In a data analysis context, we want to test our code, as usual, but also our data (i.e., expected schema; e.g., data types) and our statistics (i.e., expected properties of distributions; e.g., value ranges). We focus on a defensive programming approach, by running expectation checks."
      ]
    },
    {
      "cell_type": "code",
      "execution_count": 1,
      "metadata": {
        "collapsed": true,
        "id": "3DBAGvGFgo0C"
      },
      "outputs": [],
      "source": [
        "import pandas as pd"
      ]
    },
    {
      "cell_type": "code",
      "execution_count": 2,
      "metadata": {
        "collapsed": true,
        "id": "FTrvlNHzgo0D"
      },
      "outputs": [],
      "source": [
        "df = pd.read_csv('/content/tidy_who.csv')"
      ]
    },
    {
      "cell_type": "code",
      "execution_count": 3,
      "metadata": {
        "id": "ILdYRcEUgo0D",
        "outputId": "0a2da7ce-cee7-4a37-bcf7-7a5421ad7e8e",
        "colab": {
          "base_uri": "https://localhost:8080/",
          "height": 206
        }
      },
      "outputs": [
        {
          "output_type": "execute_result",
          "data": {
            "text/plain": [
              "                 country g_whoregion  year  cases type sex  age_range\n",
              "280246        Luxembourg         EUR  1990    NaN   ep   f       1524\n",
              "202454            Guinea         AFR  1982    NaN   sn   f       5564\n",
              "133518             Haiti         AMR  2004    NaN   sn   m       3544\n",
              "395563             Malta         EUR  1981    NaN  rel   f       2534\n",
              "196091  Marshall Islands         WPR  1997    NaN   sn   f       4554"
            ],
            "text/html": [
              "\n",
              "  <div id=\"df-4f860948-bf0c-44a9-b955-71b88bf918df\">\n",
              "    <div class=\"colab-df-container\">\n",
              "      <div>\n",
              "<style scoped>\n",
              "    .dataframe tbody tr th:only-of-type {\n",
              "        vertical-align: middle;\n",
              "    }\n",
              "\n",
              "    .dataframe tbody tr th {\n",
              "        vertical-align: top;\n",
              "    }\n",
              "\n",
              "    .dataframe thead th {\n",
              "        text-align: right;\n",
              "    }\n",
              "</style>\n",
              "<table border=\"1\" class=\"dataframe\">\n",
              "  <thead>\n",
              "    <tr style=\"text-align: right;\">\n",
              "      <th></th>\n",
              "      <th>country</th>\n",
              "      <th>g_whoregion</th>\n",
              "      <th>year</th>\n",
              "      <th>cases</th>\n",
              "      <th>type</th>\n",
              "      <th>sex</th>\n",
              "      <th>age_range</th>\n",
              "    </tr>\n",
              "  </thead>\n",
              "  <tbody>\n",
              "    <tr>\n",
              "      <th>280246</th>\n",
              "      <td>Luxembourg</td>\n",
              "      <td>EUR</td>\n",
              "      <td>1990</td>\n",
              "      <td>NaN</td>\n",
              "      <td>ep</td>\n",
              "      <td>f</td>\n",
              "      <td>1524</td>\n",
              "    </tr>\n",
              "    <tr>\n",
              "      <th>202454</th>\n",
              "      <td>Guinea</td>\n",
              "      <td>AFR</td>\n",
              "      <td>1982</td>\n",
              "      <td>NaN</td>\n",
              "      <td>sn</td>\n",
              "      <td>f</td>\n",
              "      <td>5564</td>\n",
              "    </tr>\n",
              "    <tr>\n",
              "      <th>133518</th>\n",
              "      <td>Haiti</td>\n",
              "      <td>AMR</td>\n",
              "      <td>2004</td>\n",
              "      <td>NaN</td>\n",
              "      <td>sn</td>\n",
              "      <td>m</td>\n",
              "      <td>3544</td>\n",
              "    </tr>\n",
              "    <tr>\n",
              "      <th>395563</th>\n",
              "      <td>Malta</td>\n",
              "      <td>EUR</td>\n",
              "      <td>1981</td>\n",
              "      <td>NaN</td>\n",
              "      <td>rel</td>\n",
              "      <td>f</td>\n",
              "      <td>2534</td>\n",
              "    </tr>\n",
              "    <tr>\n",
              "      <th>196091</th>\n",
              "      <td>Marshall Islands</td>\n",
              "      <td>WPR</td>\n",
              "      <td>1997</td>\n",
              "      <td>NaN</td>\n",
              "      <td>sn</td>\n",
              "      <td>f</td>\n",
              "      <td>4554</td>\n",
              "    </tr>\n",
              "  </tbody>\n",
              "</table>\n",
              "</div>\n",
              "      <button class=\"colab-df-convert\" onclick=\"convertToInteractive('df-4f860948-bf0c-44a9-b955-71b88bf918df')\"\n",
              "              title=\"Convert this dataframe to an interactive table.\"\n",
              "              style=\"display:none;\">\n",
              "        \n",
              "  <svg xmlns=\"http://www.w3.org/2000/svg\" height=\"24px\"viewBox=\"0 0 24 24\"\n",
              "       width=\"24px\">\n",
              "    <path d=\"M0 0h24v24H0V0z\" fill=\"none\"/>\n",
              "    <path d=\"M18.56 5.44l.94 2.06.94-2.06 2.06-.94-2.06-.94-.94-2.06-.94 2.06-2.06.94zm-11 1L8.5 8.5l.94-2.06 2.06-.94-2.06-.94L8.5 2.5l-.94 2.06-2.06.94zm10 10l.94 2.06.94-2.06 2.06-.94-2.06-.94-.94-2.06-.94 2.06-2.06.94z\"/><path d=\"M17.41 7.96l-1.37-1.37c-.4-.4-.92-.59-1.43-.59-.52 0-1.04.2-1.43.59L10.3 9.45l-7.72 7.72c-.78.78-.78 2.05 0 2.83L4 21.41c.39.39.9.59 1.41.59.51 0 1.02-.2 1.41-.59l7.78-7.78 2.81-2.81c.8-.78.8-2.07 0-2.86zM5.41 20L4 18.59l7.72-7.72 1.47 1.35L5.41 20z\"/>\n",
              "  </svg>\n",
              "      </button>\n",
              "      \n",
              "  <style>\n",
              "    .colab-df-container {\n",
              "      display:flex;\n",
              "      flex-wrap:wrap;\n",
              "      gap: 12px;\n",
              "    }\n",
              "\n",
              "    .colab-df-convert {\n",
              "      background-color: #E8F0FE;\n",
              "      border: none;\n",
              "      border-radius: 50%;\n",
              "      cursor: pointer;\n",
              "      display: none;\n",
              "      fill: #1967D2;\n",
              "      height: 32px;\n",
              "      padding: 0 0 0 0;\n",
              "      width: 32px;\n",
              "    }\n",
              "\n",
              "    .colab-df-convert:hover {\n",
              "      background-color: #E2EBFA;\n",
              "      box-shadow: 0px 1px 2px rgba(60, 64, 67, 0.3), 0px 1px 3px 1px rgba(60, 64, 67, 0.15);\n",
              "      fill: #174EA6;\n",
              "    }\n",
              "\n",
              "    [theme=dark] .colab-df-convert {\n",
              "      background-color: #3B4455;\n",
              "      fill: #D2E3FC;\n",
              "    }\n",
              "\n",
              "    [theme=dark] .colab-df-convert:hover {\n",
              "      background-color: #434B5C;\n",
              "      box-shadow: 0px 1px 3px 1px rgba(0, 0, 0, 0.15);\n",
              "      filter: drop-shadow(0px 1px 2px rgba(0, 0, 0, 0.3));\n",
              "      fill: #FFFFFF;\n",
              "    }\n",
              "  </style>\n",
              "\n",
              "      <script>\n",
              "        const buttonEl =\n",
              "          document.querySelector('#df-4f860948-bf0c-44a9-b955-71b88bf918df button.colab-df-convert');\n",
              "        buttonEl.style.display =\n",
              "          google.colab.kernel.accessAllowed ? 'block' : 'none';\n",
              "\n",
              "        async function convertToInteractive(key) {\n",
              "          const element = document.querySelector('#df-4f860948-bf0c-44a9-b955-71b88bf918df');\n",
              "          const dataTable =\n",
              "            await google.colab.kernel.invokeFunction('convertToInteractive',\n",
              "                                                     [key], {});\n",
              "          if (!dataTable) return;\n",
              "\n",
              "          const docLinkHtml = 'Like what you see? Visit the ' +\n",
              "            '<a target=\"_blank\" href=https://colab.research.google.com/notebooks/data_table.ipynb>data table notebook</a>'\n",
              "            + ' to learn more about interactive tables.';\n",
              "          element.innerHTML = '';\n",
              "          dataTable['output_type'] = 'display_data';\n",
              "          await google.colab.output.renderOutput(dataTable, element);\n",
              "          const docLink = document.createElement('div');\n",
              "          docLink.innerHTML = docLinkHtml;\n",
              "          element.appendChild(docLink);\n",
              "        }\n",
              "      </script>\n",
              "    </div>\n",
              "  </div>\n",
              "  "
            ]
          },
          "metadata": {},
          "execution_count": 3
        }
      ],
      "source": [
        "df.sample(5)"
      ]
    },
    {
      "cell_type": "markdown",
      "metadata": {
        "id": "0WDQEOe_go0E"
      },
      "source": [
        "## Testing code"
      ]
    },
    {
      "cell_type": "markdown",
      "metadata": {
        "id": "ykFrdaeUgo0G"
      },
      "source": [
        "As far as code is concerned (when we implement operations to transform data), please refer to the lesson on testing, debugging, and profiling.\n",
        "\n",
        "In the first notebook, we came across `pd.testing.assert_frame_equal()`; be aware that `pd.testing.assert_series_equal()` and `pd.testing.assert_index_equal()` are also available."
      ]
    },
    {
      "cell_type": "code",
      "execution_count": 4,
      "metadata": {
        "id": "Vy9c3Pvigo0G"
      },
      "outputs": [],
      "source": [
        "pd.testing.assert_index_equal(df.index, df.index)"
      ]
    },
    {
      "cell_type": "markdown",
      "metadata": {
        "id": "FV3zJX61go0G"
      },
      "source": [
        "## Testing data"
      ]
    },
    {
      "cell_type": "code",
      "execution_count": 5,
      "metadata": {
        "id": "OBBjyyeLgo0H",
        "outputId": "e3186796-9790-4f0f-b0f2-27a57c91fd9d",
        "colab": {
          "base_uri": "https://localhost:8080/"
        }
      },
      "outputs": [
        {
          "output_type": "execute_result",
          "data": {
            "text/plain": [
              "dtype('int64')"
            ]
          },
          "metadata": {},
          "execution_count": 5
        }
      ],
      "source": [
        "df['year'].dtype"
      ]
    },
    {
      "cell_type": "code",
      "execution_count": 6,
      "metadata": {
        "collapsed": true,
        "id": "Z-2Dyuefgo0H"
      },
      "outputs": [],
      "source": [
        "assert df['year'].dtype == 'int'"
      ]
    },
    {
      "cell_type": "code",
      "execution_count": 7,
      "metadata": {
        "id": "yxSXyaL8go0H",
        "outputId": "3b312aff-60b1-4301-d368-d974ff0b4091",
        "colab": {
          "base_uri": "https://localhost:8080/"
        }
      },
      "outputs": [
        {
          "output_type": "execute_result",
          "data": {
            "text/plain": [
              "dtype('O')"
            ]
          },
          "metadata": {},
          "execution_count": 7
        }
      ],
      "source": [
        "df['sex'].dtype"
      ]
    },
    {
      "cell_type": "code",
      "execution_count": 8,
      "metadata": {
        "id": "jSGZzzM_go0H"
      },
      "outputs": [],
      "source": [
        "assert df['sex'].dtype == 'object'"
      ]
    },
    {
      "cell_type": "markdown",
      "metadata": {
        "id": "ebqXVP3rgo0I"
      },
      "source": [
        "## Testing statistics"
      ]
    },
    {
      "cell_type": "code",
      "execution_count": 9,
      "metadata": {
        "id": "cyzhK-8_go0I"
      },
      "outputs": [],
      "source": [
        "assert df['year'].max() <= 2017"
      ]
    },
    {
      "cell_type": "code",
      "execution_count": 10,
      "metadata": {
        "id": "Iwq9waQpgo0I"
      },
      "outputs": [],
      "source": [
        "assert df['cases'].min() == 0"
      ]
    },
    {
      "cell_type": "markdown",
      "metadata": {
        "id": "H5XQWgaPgo0I"
      },
      "source": [
        "When datasets are large, it might be difficult to carry out exact tests (for example, using `pd.testing.assert_series_equal()`). It might then be reasonable to test for properties of a series, rather than element-wise equality."
      ]
    },
    {
      "cell_type": "code",
      "execution_count": 11,
      "metadata": {
        "id": "ia7K3u5hgo0I",
        "outputId": "74c71b59-6e54-4a69-af27-b88d1f1be9fd",
        "colab": {
          "base_uri": "https://localhost:8080/"
        }
      },
      "outputs": [
        {
          "output_type": "execute_result",
          "data": {
            "text/plain": [
              "count     81381.000000\n",
              "mean        667.482496\n",
              "std        4490.566875\n",
              "min           0.000000\n",
              "25%           3.000000\n",
              "50%          28.000000\n",
              "75%         200.000000\n",
              "max      250051.000000\n",
              "Name: cases, dtype: float64"
            ]
          },
          "metadata": {},
          "execution_count": 11
        }
      ],
      "source": [
        "df['cases'].describe()"
      ]
    },
    {
      "cell_type": "markdown",
      "metadata": {
        "id": "J0VSGZTSgo0I"
      },
      "source": [
        "Make use of visual checks too: For example, it is generally a lot more straightforward to spot outliers if you plot your data!"
      ]
    },
    {
      "cell_type": "code",
      "execution_count": 12,
      "metadata": {
        "id": "tT0Qo7Bogo0J"
      },
      "outputs": [],
      "source": [
        "assert df['sex'].nunique() > 1"
      ]
    },
    {
      "cell_type": "markdown",
      "metadata": {
        "id": "cIiwUP-Ogo0J"
      },
      "source": [
        "## Handling missing data"
      ]
    },
    {
      "cell_type": "markdown",
      "metadata": {
        "id": "AVrBLDilgo0J"
      },
      "source": [
        "Some data are missing, either because they exist but were not collected or because they never existed. How can we detect missing data (null values)?"
      ]
    },
    {
      "cell_type": "code",
      "execution_count": 13,
      "metadata": {
        "id": "nftmlvpqgo0J",
        "outputId": "211825f2-4c8a-45e3-8be6-d2aa2259748d",
        "colab": {
          "base_uri": "https://localhost:8080/",
          "height": 300
        }
      },
      "outputs": [
        {
          "output_type": "execute_result",
          "data": {
            "text/plain": [
              "       country g_whoregion  year  cases type sex  age_range\n",
              "48827   Greece         EUR  2015    NaN   sp   m         65\n",
              "102545  Greece         EUR  2015    NaN   sp   f         65\n",
              "156263  Greece         EUR  2015    NaN   sn   m         65\n",
              "209981  Greece         EUR  2015    NaN   sn   f         65\n",
              "263699  Greece         EUR  2015    NaN   ep   m         65\n",
              "317417  Greece         EUR  2015    NaN   ep   f         65\n",
              "371135  Greece         EUR  2015   86.0  rel   m         65\n",
              "424853  Greece         EUR  2015   42.0  rel   f         65"
            ],
            "text/html": [
              "\n",
              "  <div id=\"df-8f0ca6d4-5fda-4fcc-b061-9865f48996c2\">\n",
              "    <div class=\"colab-df-container\">\n",
              "      <div>\n",
              "<style scoped>\n",
              "    .dataframe tbody tr th:only-of-type {\n",
              "        vertical-align: middle;\n",
              "    }\n",
              "\n",
              "    .dataframe tbody tr th {\n",
              "        vertical-align: top;\n",
              "    }\n",
              "\n",
              "    .dataframe thead th {\n",
              "        text-align: right;\n",
              "    }\n",
              "</style>\n",
              "<table border=\"1\" class=\"dataframe\">\n",
              "  <thead>\n",
              "    <tr style=\"text-align: right;\">\n",
              "      <th></th>\n",
              "      <th>country</th>\n",
              "      <th>g_whoregion</th>\n",
              "      <th>year</th>\n",
              "      <th>cases</th>\n",
              "      <th>type</th>\n",
              "      <th>sex</th>\n",
              "      <th>age_range</th>\n",
              "    </tr>\n",
              "  </thead>\n",
              "  <tbody>\n",
              "    <tr>\n",
              "      <th>48827</th>\n",
              "      <td>Greece</td>\n",
              "      <td>EUR</td>\n",
              "      <td>2015</td>\n",
              "      <td>NaN</td>\n",
              "      <td>sp</td>\n",
              "      <td>m</td>\n",
              "      <td>65</td>\n",
              "    </tr>\n",
              "    <tr>\n",
              "      <th>102545</th>\n",
              "      <td>Greece</td>\n",
              "      <td>EUR</td>\n",
              "      <td>2015</td>\n",
              "      <td>NaN</td>\n",
              "      <td>sp</td>\n",
              "      <td>f</td>\n",
              "      <td>65</td>\n",
              "    </tr>\n",
              "    <tr>\n",
              "      <th>156263</th>\n",
              "      <td>Greece</td>\n",
              "      <td>EUR</td>\n",
              "      <td>2015</td>\n",
              "      <td>NaN</td>\n",
              "      <td>sn</td>\n",
              "      <td>m</td>\n",
              "      <td>65</td>\n",
              "    </tr>\n",
              "    <tr>\n",
              "      <th>209981</th>\n",
              "      <td>Greece</td>\n",
              "      <td>EUR</td>\n",
              "      <td>2015</td>\n",
              "      <td>NaN</td>\n",
              "      <td>sn</td>\n",
              "      <td>f</td>\n",
              "      <td>65</td>\n",
              "    </tr>\n",
              "    <tr>\n",
              "      <th>263699</th>\n",
              "      <td>Greece</td>\n",
              "      <td>EUR</td>\n",
              "      <td>2015</td>\n",
              "      <td>NaN</td>\n",
              "      <td>ep</td>\n",
              "      <td>m</td>\n",
              "      <td>65</td>\n",
              "    </tr>\n",
              "    <tr>\n",
              "      <th>317417</th>\n",
              "      <td>Greece</td>\n",
              "      <td>EUR</td>\n",
              "      <td>2015</td>\n",
              "      <td>NaN</td>\n",
              "      <td>ep</td>\n",
              "      <td>f</td>\n",
              "      <td>65</td>\n",
              "    </tr>\n",
              "    <tr>\n",
              "      <th>371135</th>\n",
              "      <td>Greece</td>\n",
              "      <td>EUR</td>\n",
              "      <td>2015</td>\n",
              "      <td>86.0</td>\n",
              "      <td>rel</td>\n",
              "      <td>m</td>\n",
              "      <td>65</td>\n",
              "    </tr>\n",
              "    <tr>\n",
              "      <th>424853</th>\n",
              "      <td>Greece</td>\n",
              "      <td>EUR</td>\n",
              "      <td>2015</td>\n",
              "      <td>42.0</td>\n",
              "      <td>rel</td>\n",
              "      <td>f</td>\n",
              "      <td>65</td>\n",
              "    </tr>\n",
              "  </tbody>\n",
              "</table>\n",
              "</div>\n",
              "      <button class=\"colab-df-convert\" onclick=\"convertToInteractive('df-8f0ca6d4-5fda-4fcc-b061-9865f48996c2')\"\n",
              "              title=\"Convert this dataframe to an interactive table.\"\n",
              "              style=\"display:none;\">\n",
              "        \n",
              "  <svg xmlns=\"http://www.w3.org/2000/svg\" height=\"24px\"viewBox=\"0 0 24 24\"\n",
              "       width=\"24px\">\n",
              "    <path d=\"M0 0h24v24H0V0z\" fill=\"none\"/>\n",
              "    <path d=\"M18.56 5.44l.94 2.06.94-2.06 2.06-.94-2.06-.94-.94-2.06-.94 2.06-2.06.94zm-11 1L8.5 8.5l.94-2.06 2.06-.94-2.06-.94L8.5 2.5l-.94 2.06-2.06.94zm10 10l.94 2.06.94-2.06 2.06-.94-2.06-.94-.94-2.06-.94 2.06-2.06.94z\"/><path d=\"M17.41 7.96l-1.37-1.37c-.4-.4-.92-.59-1.43-.59-.52 0-1.04.2-1.43.59L10.3 9.45l-7.72 7.72c-.78.78-.78 2.05 0 2.83L4 21.41c.39.39.9.59 1.41.59.51 0 1.02-.2 1.41-.59l7.78-7.78 2.81-2.81c.8-.78.8-2.07 0-2.86zM5.41 20L4 18.59l7.72-7.72 1.47 1.35L5.41 20z\"/>\n",
              "  </svg>\n",
              "      </button>\n",
              "      \n",
              "  <style>\n",
              "    .colab-df-container {\n",
              "      display:flex;\n",
              "      flex-wrap:wrap;\n",
              "      gap: 12px;\n",
              "    }\n",
              "\n",
              "    .colab-df-convert {\n",
              "      background-color: #E8F0FE;\n",
              "      border: none;\n",
              "      border-radius: 50%;\n",
              "      cursor: pointer;\n",
              "      display: none;\n",
              "      fill: #1967D2;\n",
              "      height: 32px;\n",
              "      padding: 0 0 0 0;\n",
              "      width: 32px;\n",
              "    }\n",
              "\n",
              "    .colab-df-convert:hover {\n",
              "      background-color: #E2EBFA;\n",
              "      box-shadow: 0px 1px 2px rgba(60, 64, 67, 0.3), 0px 1px 3px 1px rgba(60, 64, 67, 0.15);\n",
              "      fill: #174EA6;\n",
              "    }\n",
              "\n",
              "    [theme=dark] .colab-df-convert {\n",
              "      background-color: #3B4455;\n",
              "      fill: #D2E3FC;\n",
              "    }\n",
              "\n",
              "    [theme=dark] .colab-df-convert:hover {\n",
              "      background-color: #434B5C;\n",
              "      box-shadow: 0px 1px 3px 1px rgba(0, 0, 0, 0.15);\n",
              "      filter: drop-shadow(0px 1px 2px rgba(0, 0, 0, 0.3));\n",
              "      fill: #FFFFFF;\n",
              "    }\n",
              "  </style>\n",
              "\n",
              "      <script>\n",
              "        const buttonEl =\n",
              "          document.querySelector('#df-8f0ca6d4-5fda-4fcc-b061-9865f48996c2 button.colab-df-convert');\n",
              "        buttonEl.style.display =\n",
              "          google.colab.kernel.accessAllowed ? 'block' : 'none';\n",
              "\n",
              "        async function convertToInteractive(key) {\n",
              "          const element = document.querySelector('#df-8f0ca6d4-5fda-4fcc-b061-9865f48996c2');\n",
              "          const dataTable =\n",
              "            await google.colab.kernel.invokeFunction('convertToInteractive',\n",
              "                                                     [key], {});\n",
              "          if (!dataTable) return;\n",
              "\n",
              "          const docLinkHtml = 'Like what you see? Visit the ' +\n",
              "            '<a target=\"_blank\" href=https://colab.research.google.com/notebooks/data_table.ipynb>data table notebook</a>'\n",
              "            + ' to learn more about interactive tables.';\n",
              "          element.innerHTML = '';\n",
              "          dataTable['output_type'] = 'display_data';\n",
              "          await google.colab.output.renderOutput(dataTable, element);\n",
              "          const docLink = document.createElement('div');\n",
              "          docLink.innerHTML = docLinkHtml;\n",
              "          element.appendChild(docLink);\n",
              "        }\n",
              "      </script>\n",
              "    </div>\n",
              "  </div>\n",
              "  "
            ]
          },
          "metadata": {},
          "execution_count": 13
        }
      ],
      "source": [
        "df_sub = df[(df.country == 'Greece') & (df.year > 2014) & (df.age_range == 65)]\n",
        "df_sub"
      ]
    },
    {
      "cell_type": "code",
      "execution_count": 14,
      "metadata": {
        "id": "v7d_iqs3go0J",
        "outputId": "b2643a1c-eb18-4593-c658-bee0483af4ab",
        "colab": {
          "base_uri": "https://localhost:8080/"
        }
      },
      "outputs": [
        {
          "output_type": "execute_result",
          "data": {
            "text/plain": [
              "48827      True\n",
              "102545     True\n",
              "156263     True\n",
              "209981     True\n",
              "263699     True\n",
              "317417     True\n",
              "371135    False\n",
              "424853    False\n",
              "Name: cases, dtype: bool"
            ]
          },
          "metadata": {},
          "execution_count": 14
        }
      ],
      "source": [
        "df_sub['cases'].isnull()"
      ]
    },
    {
      "cell_type": "code",
      "execution_count": 15,
      "metadata": {
        "id": "lFq2DE3Ego0K",
        "outputId": "21c71d48-b818-4cb3-8304-b7a0c6c8cdc5",
        "colab": {
          "base_uri": "https://localhost:8080/"
        }
      },
      "outputs": [
        {
          "output_type": "execute_result",
          "data": {
            "text/plain": [
              "48827     False\n",
              "102545    False\n",
              "156263    False\n",
              "209981    False\n",
              "263699    False\n",
              "317417    False\n",
              "371135     True\n",
              "424853     True\n",
              "Name: cases, dtype: bool"
            ]
          },
          "metadata": {},
          "execution_count": 15
        }
      ],
      "source": [
        "df_sub['cases'].notnull()"
      ]
    },
    {
      "cell_type": "code",
      "execution_count": 16,
      "metadata": {
        "id": "jA6n0fvwgo0K",
        "outputId": "f8d5d864-c7df-4b60-9049-26816e482116",
        "colab": {
          "base_uri": "https://localhost:8080/"
        }
      },
      "outputs": [
        {
          "output_type": "execute_result",
          "data": {
            "text/plain": [
              "True     6\n",
              "False    2\n",
              "Name: cases, dtype: int64"
            ]
          },
          "metadata": {},
          "execution_count": 16
        }
      ],
      "source": [
        "df_sub['cases'].isnull().value_counts()"
      ]
    },
    {
      "cell_type": "markdown",
      "metadata": {
        "id": "SnfIVOo2go0K"
      },
      "source": [
        "When summing data, null (missing) values are treated as zero."
      ]
    },
    {
      "cell_type": "code",
      "execution_count": 17,
      "metadata": {
        "id": "sTOUQ_oGgo0K",
        "outputId": "3e76fbc0-8513-4a1b-d2d1-f2cd21adfbf8",
        "colab": {
          "base_uri": "https://localhost:8080/"
        }
      },
      "outputs": [
        {
          "output_type": "execute_result",
          "data": {
            "text/plain": [
              "128.0"
            ]
          },
          "metadata": {},
          "execution_count": 17
        }
      ],
      "source": [
        "df_sub['cases'].sum()"
      ]
    },
    {
      "cell_type": "code",
      "execution_count": 18,
      "metadata": {
        "id": "rAfuzpx5go0L",
        "outputId": "63a8bda8-c5d9-4587-f855-3b7a99f72878",
        "colab": {
          "base_uri": "https://localhost:8080/",
          "height": 300
        }
      },
      "outputs": [
        {
          "output_type": "execute_result",
          "data": {
            "text/plain": [
              "       country g_whoregion  year cases type sex  age_range\n",
              "48827   Greece         EUR  2015    NA   sp   m         65\n",
              "102545  Greece         EUR  2015    NA   sp   f         65\n",
              "156263  Greece         EUR  2015    NA   sn   m         65\n",
              "209981  Greece         EUR  2015    NA   sn   f         65\n",
              "263699  Greece         EUR  2015    NA   ep   m         65\n",
              "317417  Greece         EUR  2015    NA   ep   f         65\n",
              "371135  Greece         EUR  2015  86.0  rel   m         65\n",
              "424853  Greece         EUR  2015  42.0  rel   f         65"
            ],
            "text/html": [
              "\n",
              "  <div id=\"df-541cebfc-fc73-42e8-a9bf-65e9f402a68c\">\n",
              "    <div class=\"colab-df-container\">\n",
              "      <div>\n",
              "<style scoped>\n",
              "    .dataframe tbody tr th:only-of-type {\n",
              "        vertical-align: middle;\n",
              "    }\n",
              "\n",
              "    .dataframe tbody tr th {\n",
              "        vertical-align: top;\n",
              "    }\n",
              "\n",
              "    .dataframe thead th {\n",
              "        text-align: right;\n",
              "    }\n",
              "</style>\n",
              "<table border=\"1\" class=\"dataframe\">\n",
              "  <thead>\n",
              "    <tr style=\"text-align: right;\">\n",
              "      <th></th>\n",
              "      <th>country</th>\n",
              "      <th>g_whoregion</th>\n",
              "      <th>year</th>\n",
              "      <th>cases</th>\n",
              "      <th>type</th>\n",
              "      <th>sex</th>\n",
              "      <th>age_range</th>\n",
              "    </tr>\n",
              "  </thead>\n",
              "  <tbody>\n",
              "    <tr>\n",
              "      <th>48827</th>\n",
              "      <td>Greece</td>\n",
              "      <td>EUR</td>\n",
              "      <td>2015</td>\n",
              "      <td>NA</td>\n",
              "      <td>sp</td>\n",
              "      <td>m</td>\n",
              "      <td>65</td>\n",
              "    </tr>\n",
              "    <tr>\n",
              "      <th>102545</th>\n",
              "      <td>Greece</td>\n",
              "      <td>EUR</td>\n",
              "      <td>2015</td>\n",
              "      <td>NA</td>\n",
              "      <td>sp</td>\n",
              "      <td>f</td>\n",
              "      <td>65</td>\n",
              "    </tr>\n",
              "    <tr>\n",
              "      <th>156263</th>\n",
              "      <td>Greece</td>\n",
              "      <td>EUR</td>\n",
              "      <td>2015</td>\n",
              "      <td>NA</td>\n",
              "      <td>sn</td>\n",
              "      <td>m</td>\n",
              "      <td>65</td>\n",
              "    </tr>\n",
              "    <tr>\n",
              "      <th>209981</th>\n",
              "      <td>Greece</td>\n",
              "      <td>EUR</td>\n",
              "      <td>2015</td>\n",
              "      <td>NA</td>\n",
              "      <td>sn</td>\n",
              "      <td>f</td>\n",
              "      <td>65</td>\n",
              "    </tr>\n",
              "    <tr>\n",
              "      <th>263699</th>\n",
              "      <td>Greece</td>\n",
              "      <td>EUR</td>\n",
              "      <td>2015</td>\n",
              "      <td>NA</td>\n",
              "      <td>ep</td>\n",
              "      <td>m</td>\n",
              "      <td>65</td>\n",
              "    </tr>\n",
              "    <tr>\n",
              "      <th>317417</th>\n",
              "      <td>Greece</td>\n",
              "      <td>EUR</td>\n",
              "      <td>2015</td>\n",
              "      <td>NA</td>\n",
              "      <td>ep</td>\n",
              "      <td>f</td>\n",
              "      <td>65</td>\n",
              "    </tr>\n",
              "    <tr>\n",
              "      <th>371135</th>\n",
              "      <td>Greece</td>\n",
              "      <td>EUR</td>\n",
              "      <td>2015</td>\n",
              "      <td>86.0</td>\n",
              "      <td>rel</td>\n",
              "      <td>m</td>\n",
              "      <td>65</td>\n",
              "    </tr>\n",
              "    <tr>\n",
              "      <th>424853</th>\n",
              "      <td>Greece</td>\n",
              "      <td>EUR</td>\n",
              "      <td>2015</td>\n",
              "      <td>42.0</td>\n",
              "      <td>rel</td>\n",
              "      <td>f</td>\n",
              "      <td>65</td>\n",
              "    </tr>\n",
              "  </tbody>\n",
              "</table>\n",
              "</div>\n",
              "      <button class=\"colab-df-convert\" onclick=\"convertToInteractive('df-541cebfc-fc73-42e8-a9bf-65e9f402a68c')\"\n",
              "              title=\"Convert this dataframe to an interactive table.\"\n",
              "              style=\"display:none;\">\n",
              "        \n",
              "  <svg xmlns=\"http://www.w3.org/2000/svg\" height=\"24px\"viewBox=\"0 0 24 24\"\n",
              "       width=\"24px\">\n",
              "    <path d=\"M0 0h24v24H0V0z\" fill=\"none\"/>\n",
              "    <path d=\"M18.56 5.44l.94 2.06.94-2.06 2.06-.94-2.06-.94-.94-2.06-.94 2.06-2.06.94zm-11 1L8.5 8.5l.94-2.06 2.06-.94-2.06-.94L8.5 2.5l-.94 2.06-2.06.94zm10 10l.94 2.06.94-2.06 2.06-.94-2.06-.94-.94-2.06-.94 2.06-2.06.94z\"/><path d=\"M17.41 7.96l-1.37-1.37c-.4-.4-.92-.59-1.43-.59-.52 0-1.04.2-1.43.59L10.3 9.45l-7.72 7.72c-.78.78-.78 2.05 0 2.83L4 21.41c.39.39.9.59 1.41.59.51 0 1.02-.2 1.41-.59l7.78-7.78 2.81-2.81c.8-.78.8-2.07 0-2.86zM5.41 20L4 18.59l7.72-7.72 1.47 1.35L5.41 20z\"/>\n",
              "  </svg>\n",
              "      </button>\n",
              "      \n",
              "  <style>\n",
              "    .colab-df-container {\n",
              "      display:flex;\n",
              "      flex-wrap:wrap;\n",
              "      gap: 12px;\n",
              "    }\n",
              "\n",
              "    .colab-df-convert {\n",
              "      background-color: #E8F0FE;\n",
              "      border: none;\n",
              "      border-radius: 50%;\n",
              "      cursor: pointer;\n",
              "      display: none;\n",
              "      fill: #1967D2;\n",
              "      height: 32px;\n",
              "      padding: 0 0 0 0;\n",
              "      width: 32px;\n",
              "    }\n",
              "\n",
              "    .colab-df-convert:hover {\n",
              "      background-color: #E2EBFA;\n",
              "      box-shadow: 0px 1px 2px rgba(60, 64, 67, 0.3), 0px 1px 3px 1px rgba(60, 64, 67, 0.15);\n",
              "      fill: #174EA6;\n",
              "    }\n",
              "\n",
              "    [theme=dark] .colab-df-convert {\n",
              "      background-color: #3B4455;\n",
              "      fill: #D2E3FC;\n",
              "    }\n",
              "\n",
              "    [theme=dark] .colab-df-convert:hover {\n",
              "      background-color: #434B5C;\n",
              "      box-shadow: 0px 1px 3px 1px rgba(0, 0, 0, 0.15);\n",
              "      filter: drop-shadow(0px 1px 2px rgba(0, 0, 0, 0.3));\n",
              "      fill: #FFFFFF;\n",
              "    }\n",
              "  </style>\n",
              "\n",
              "      <script>\n",
              "        const buttonEl =\n",
              "          document.querySelector('#df-541cebfc-fc73-42e8-a9bf-65e9f402a68c button.colab-df-convert');\n",
              "        buttonEl.style.display =\n",
              "          google.colab.kernel.accessAllowed ? 'block' : 'none';\n",
              "\n",
              "        async function convertToInteractive(key) {\n",
              "          const element = document.querySelector('#df-541cebfc-fc73-42e8-a9bf-65e9f402a68c');\n",
              "          const dataTable =\n",
              "            await google.colab.kernel.invokeFunction('convertToInteractive',\n",
              "                                                     [key], {});\n",
              "          if (!dataTable) return;\n",
              "\n",
              "          const docLinkHtml = 'Like what you see? Visit the ' +\n",
              "            '<a target=\"_blank\" href=https://colab.research.google.com/notebooks/data_table.ipynb>data table notebook</a>'\n",
              "            + ' to learn more about interactive tables.';\n",
              "          element.innerHTML = '';\n",
              "          dataTable['output_type'] = 'display_data';\n",
              "          await google.colab.output.renderOutput(dataTable, element);\n",
              "          const docLink = document.createElement('div');\n",
              "          docLink.innerHTML = docLinkHtml;\n",
              "          element.appendChild(docLink);\n",
              "        }\n",
              "      </script>\n",
              "    </div>\n",
              "  </div>\n",
              "  "
            ]
          },
          "metadata": {},
          "execution_count": 18
        }
      ],
      "source": [
        "df_sub.fillna('NA')"
      ]
    },
    {
      "cell_type": "code",
      "execution_count": 19,
      "metadata": {
        "id": "Reogrv03go0L",
        "outputId": "6a940bfc-e83b-4a24-a601-5bae8ad2bd30",
        "colab": {
          "base_uri": "https://localhost:8080/"
        }
      },
      "outputs": [
        {
          "output_type": "execute_result",
          "data": {
            "text/plain": [
              "48827        0\n",
              "102545       0\n",
              "156263       0\n",
              "209981       0\n",
              "263699       0\n",
              "317417       0\n",
              "371135    86.0\n",
              "424853    42.0\n",
              "Name: cases, dtype: object"
            ]
          },
          "metadata": {},
          "execution_count": 19
        }
      ],
      "source": [
        "df_sub['cases'].fillna('0')"
      ]
    },
    {
      "cell_type": "code",
      "execution_count": 20,
      "metadata": {
        "id": "dDEzCmzvgo0L",
        "outputId": "624909bc-4070-412f-fac1-82c66829c14f",
        "colab": {
          "base_uri": "https://localhost:8080/",
          "height": 112
        }
      },
      "outputs": [
        {
          "output_type": "execute_result",
          "data": {
            "text/plain": [
              "       country g_whoregion  year  cases type sex  age_range\n",
              "371135  Greece         EUR  2015   86.0  rel   m         65\n",
              "424853  Greece         EUR  2015   42.0  rel   f         65"
            ],
            "text/html": [
              "\n",
              "  <div id=\"df-88babbf3-3b42-4564-9af0-a6584ea8e6aa\">\n",
              "    <div class=\"colab-df-container\">\n",
              "      <div>\n",
              "<style scoped>\n",
              "    .dataframe tbody tr th:only-of-type {\n",
              "        vertical-align: middle;\n",
              "    }\n",
              "\n",
              "    .dataframe tbody tr th {\n",
              "        vertical-align: top;\n",
              "    }\n",
              "\n",
              "    .dataframe thead th {\n",
              "        text-align: right;\n",
              "    }\n",
              "</style>\n",
              "<table border=\"1\" class=\"dataframe\">\n",
              "  <thead>\n",
              "    <tr style=\"text-align: right;\">\n",
              "      <th></th>\n",
              "      <th>country</th>\n",
              "      <th>g_whoregion</th>\n",
              "      <th>year</th>\n",
              "      <th>cases</th>\n",
              "      <th>type</th>\n",
              "      <th>sex</th>\n",
              "      <th>age_range</th>\n",
              "    </tr>\n",
              "  </thead>\n",
              "  <tbody>\n",
              "    <tr>\n",
              "      <th>371135</th>\n",
              "      <td>Greece</td>\n",
              "      <td>EUR</td>\n",
              "      <td>2015</td>\n",
              "      <td>86.0</td>\n",
              "      <td>rel</td>\n",
              "      <td>m</td>\n",
              "      <td>65</td>\n",
              "    </tr>\n",
              "    <tr>\n",
              "      <th>424853</th>\n",
              "      <td>Greece</td>\n",
              "      <td>EUR</td>\n",
              "      <td>2015</td>\n",
              "      <td>42.0</td>\n",
              "      <td>rel</td>\n",
              "      <td>f</td>\n",
              "      <td>65</td>\n",
              "    </tr>\n",
              "  </tbody>\n",
              "</table>\n",
              "</div>\n",
              "      <button class=\"colab-df-convert\" onclick=\"convertToInteractive('df-88babbf3-3b42-4564-9af0-a6584ea8e6aa')\"\n",
              "              title=\"Convert this dataframe to an interactive table.\"\n",
              "              style=\"display:none;\">\n",
              "        \n",
              "  <svg xmlns=\"http://www.w3.org/2000/svg\" height=\"24px\"viewBox=\"0 0 24 24\"\n",
              "       width=\"24px\">\n",
              "    <path d=\"M0 0h24v24H0V0z\" fill=\"none\"/>\n",
              "    <path d=\"M18.56 5.44l.94 2.06.94-2.06 2.06-.94-2.06-.94-.94-2.06-.94 2.06-2.06.94zm-11 1L8.5 8.5l.94-2.06 2.06-.94-2.06-.94L8.5 2.5l-.94 2.06-2.06.94zm10 10l.94 2.06.94-2.06 2.06-.94-2.06-.94-.94-2.06-.94 2.06-2.06.94z\"/><path d=\"M17.41 7.96l-1.37-1.37c-.4-.4-.92-.59-1.43-.59-.52 0-1.04.2-1.43.59L10.3 9.45l-7.72 7.72c-.78.78-.78 2.05 0 2.83L4 21.41c.39.39.9.59 1.41.59.51 0 1.02-.2 1.41-.59l7.78-7.78 2.81-2.81c.8-.78.8-2.07 0-2.86zM5.41 20L4 18.59l7.72-7.72 1.47 1.35L5.41 20z\"/>\n",
              "  </svg>\n",
              "      </button>\n",
              "      \n",
              "  <style>\n",
              "    .colab-df-container {\n",
              "      display:flex;\n",
              "      flex-wrap:wrap;\n",
              "      gap: 12px;\n",
              "    }\n",
              "\n",
              "    .colab-df-convert {\n",
              "      background-color: #E8F0FE;\n",
              "      border: none;\n",
              "      border-radius: 50%;\n",
              "      cursor: pointer;\n",
              "      display: none;\n",
              "      fill: #1967D2;\n",
              "      height: 32px;\n",
              "      padding: 0 0 0 0;\n",
              "      width: 32px;\n",
              "    }\n",
              "\n",
              "    .colab-df-convert:hover {\n",
              "      background-color: #E2EBFA;\n",
              "      box-shadow: 0px 1px 2px rgba(60, 64, 67, 0.3), 0px 1px 3px 1px rgba(60, 64, 67, 0.15);\n",
              "      fill: #174EA6;\n",
              "    }\n",
              "\n",
              "    [theme=dark] .colab-df-convert {\n",
              "      background-color: #3B4455;\n",
              "      fill: #D2E3FC;\n",
              "    }\n",
              "\n",
              "    [theme=dark] .colab-df-convert:hover {\n",
              "      background-color: #434B5C;\n",
              "      box-shadow: 0px 1px 3px 1px rgba(0, 0, 0, 0.15);\n",
              "      filter: drop-shadow(0px 1px 2px rgba(0, 0, 0, 0.3));\n",
              "      fill: #FFFFFF;\n",
              "    }\n",
              "  </style>\n",
              "\n",
              "      <script>\n",
              "        const buttonEl =\n",
              "          document.querySelector('#df-88babbf3-3b42-4564-9af0-a6584ea8e6aa button.colab-df-convert');\n",
              "        buttonEl.style.display =\n",
              "          google.colab.kernel.accessAllowed ? 'block' : 'none';\n",
              "\n",
              "        async function convertToInteractive(key) {\n",
              "          const element = document.querySelector('#df-88babbf3-3b42-4564-9af0-a6584ea8e6aa');\n",
              "          const dataTable =\n",
              "            await google.colab.kernel.invokeFunction('convertToInteractive',\n",
              "                                                     [key], {});\n",
              "          if (!dataTable) return;\n",
              "\n",
              "          const docLinkHtml = 'Like what you see? Visit the ' +\n",
              "            '<a target=\"_blank\" href=https://colab.research.google.com/notebooks/data_table.ipynb>data table notebook</a>'\n",
              "            + ' to learn more about interactive tables.';\n",
              "          element.innerHTML = '';\n",
              "          dataTable['output_type'] = 'display_data';\n",
              "          await google.colab.output.renderOutput(dataTable, element);\n",
              "          const docLink = document.createElement('div');\n",
              "          docLink.innerHTML = docLinkHtml;\n",
              "          element.appendChild(docLink);\n",
              "        }\n",
              "      </script>\n",
              "    </div>\n",
              "  </div>\n",
              "  "
            ]
          },
          "metadata": {},
          "execution_count": 20
        }
      ],
      "source": [
        "df_sub.dropna()"
      ]
    },
    {
      "cell_type": "markdown",
      "metadata": {
        "id": "el_t0Cyggo0M"
      },
      "source": [
        "### Hands-on exercises"
      ]
    },
    {
      "cell_type": "markdown",
      "metadata": {
        "id": "mW_9N_PMgo0M"
      },
      "source": [
        "1. What type would you expect the variable `cases` to be?\n",
        "2. Write an expectation check to ensure that the number of missing values for `cases` is less than the total number of observations. \n",
        "3. What is the ratio of non-null values for `cases` in regions `EUR` and `AFR` (together)?"
      ]
    },
    {
      "cell_type": "markdown",
      "metadata": {
        "id": "dk8vdpQpgo0M"
      },
      "source": [
        "## Reference"
      ]
    },
    {
      "cell_type": "markdown",
      "metadata": {
        "id": "VDyh68w2go0M"
      },
      "source": [
        "* Tutorial on \"Best Testing Practices for Data Science\" by Eric J. Ma at PyCon 2017:\n",
        "https://www.youtube.com/watch?v=yACtdj1_IxE"
      ]
    }
  ],
  "metadata": {
    "kernelspec": {
      "display_name": "Python 3",
      "language": "python",
      "name": "python3"
    },
    "language_info": {
      "codemirror_mode": {
        "name": "ipython",
        "version": 3
      },
      "file_extension": ".py",
      "mimetype": "text/x-python",
      "name": "python",
      "nbconvert_exporter": "python",
      "pygments_lexer": "ipython3",
      "version": "3.6.2"
    },
    "colab": {
      "provenance": [],
      "include_colab_link": true
    }
  },
  "nbformat": 4,
  "nbformat_minor": 0
}