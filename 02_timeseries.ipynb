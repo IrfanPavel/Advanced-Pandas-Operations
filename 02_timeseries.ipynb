{
  "cells": [
    {
      "cell_type": "markdown",
      "metadata": {
        "id": "view-in-github",
        "colab_type": "text"
      },
      "source": [
        "<a href=\"https://colab.research.google.com/github/IrfanPavel/Advanced-Pandas-Operations/blob/main/02_timeseries.ipynb\" target=\"_parent\"><img src=\"https://colab.research.google.com/assets/colab-badge.svg\" alt=\"Open In Colab\"/></a>"
      ]
    },
    {
      "cell_type": "markdown",
      "metadata": {
        "id": "zeBnkGGFfY6j"
      },
      "source": [
        "# Timeseries"
      ]
    },
    {
      "cell_type": "markdown",
      "metadata": {
        "id": "at54eUYJfY6l"
      },
      "source": [
        "We have downloaded datasets from https://datahub.io/core/co2-ppm."
      ]
    },
    {
      "cell_type": "code",
      "execution_count": 1,
      "metadata": {
        "collapsed": true,
        "id": "UdOy7mzTfY6m"
      },
      "outputs": [],
      "source": [
        "import pandas as pd"
      ]
    },
    {
      "cell_type": "markdown",
      "metadata": {
        "id": "xGg6BDGSfY6m"
      },
      "source": [
        "![metadata](./img/metadata.png \"Field information\")"
      ]
    },
    {
      "cell_type": "code",
      "execution_count": 2,
      "metadata": {
        "id": "FKy40d8LfY6n"
      },
      "outputs": [],
      "source": [
        "mlo = pd.read_csv('/content/co2-mm-mlo.csv', na_values=-99.99, index_col='Date', parse_dates=True)"
      ]
    },
    {
      "cell_type": "code",
      "execution_count": 3,
      "metadata": {
        "colab": {
          "base_uri": "https://localhost:8080/",
          "height": 238
        },
        "id": "nsYOTX6-fY6n",
        "outputId": "caced5be-9240-4106-8875-d4202cdfba3a"
      },
      "outputs": [
        {
          "output_type": "execute_result",
          "data": {
            "text/plain": [
              "            Decimal Date  Average  Interpolated   Trend  Number of Days\n",
              "Date                                                                   \n",
              "1958-03-01      1958.208   315.71        315.71  314.62              -1\n",
              "1958-04-01      1958.292   317.45        317.45  315.29              -1\n",
              "1958-05-01      1958.375   317.50        317.50  314.71              -1\n",
              "1958-06-01      1958.458      NaN        317.10  314.85              -1\n",
              "1958-07-01      1958.542   315.86        315.86  314.98              -1"
            ],
            "text/html": [
              "\n",
              "  <div id=\"df-22460472-8653-411a-b540-4f67b77419de\">\n",
              "    <div class=\"colab-df-container\">\n",
              "      <div>\n",
              "<style scoped>\n",
              "    .dataframe tbody tr th:only-of-type {\n",
              "        vertical-align: middle;\n",
              "    }\n",
              "\n",
              "    .dataframe tbody tr th {\n",
              "        vertical-align: top;\n",
              "    }\n",
              "\n",
              "    .dataframe thead th {\n",
              "        text-align: right;\n",
              "    }\n",
              "</style>\n",
              "<table border=\"1\" class=\"dataframe\">\n",
              "  <thead>\n",
              "    <tr style=\"text-align: right;\">\n",
              "      <th></th>\n",
              "      <th>Decimal Date</th>\n",
              "      <th>Average</th>\n",
              "      <th>Interpolated</th>\n",
              "      <th>Trend</th>\n",
              "      <th>Number of Days</th>\n",
              "    </tr>\n",
              "    <tr>\n",
              "      <th>Date</th>\n",
              "      <th></th>\n",
              "      <th></th>\n",
              "      <th></th>\n",
              "      <th></th>\n",
              "      <th></th>\n",
              "    </tr>\n",
              "  </thead>\n",
              "  <tbody>\n",
              "    <tr>\n",
              "      <th>1958-03-01</th>\n",
              "      <td>1958.208</td>\n",
              "      <td>315.71</td>\n",
              "      <td>315.71</td>\n",
              "      <td>314.62</td>\n",
              "      <td>-1</td>\n",
              "    </tr>\n",
              "    <tr>\n",
              "      <th>1958-04-01</th>\n",
              "      <td>1958.292</td>\n",
              "      <td>317.45</td>\n",
              "      <td>317.45</td>\n",
              "      <td>315.29</td>\n",
              "      <td>-1</td>\n",
              "    </tr>\n",
              "    <tr>\n",
              "      <th>1958-05-01</th>\n",
              "      <td>1958.375</td>\n",
              "      <td>317.50</td>\n",
              "      <td>317.50</td>\n",
              "      <td>314.71</td>\n",
              "      <td>-1</td>\n",
              "    </tr>\n",
              "    <tr>\n",
              "      <th>1958-06-01</th>\n",
              "      <td>1958.458</td>\n",
              "      <td>NaN</td>\n",
              "      <td>317.10</td>\n",
              "      <td>314.85</td>\n",
              "      <td>-1</td>\n",
              "    </tr>\n",
              "    <tr>\n",
              "      <th>1958-07-01</th>\n",
              "      <td>1958.542</td>\n",
              "      <td>315.86</td>\n",
              "      <td>315.86</td>\n",
              "      <td>314.98</td>\n",
              "      <td>-1</td>\n",
              "    </tr>\n",
              "  </tbody>\n",
              "</table>\n",
              "</div>\n",
              "      <button class=\"colab-df-convert\" onclick=\"convertToInteractive('df-22460472-8653-411a-b540-4f67b77419de')\"\n",
              "              title=\"Convert this dataframe to an interactive table.\"\n",
              "              style=\"display:none;\">\n",
              "        \n",
              "  <svg xmlns=\"http://www.w3.org/2000/svg\" height=\"24px\"viewBox=\"0 0 24 24\"\n",
              "       width=\"24px\">\n",
              "    <path d=\"M0 0h24v24H0V0z\" fill=\"none\"/>\n",
              "    <path d=\"M18.56 5.44l.94 2.06.94-2.06 2.06-.94-2.06-.94-.94-2.06-.94 2.06-2.06.94zm-11 1L8.5 8.5l.94-2.06 2.06-.94-2.06-.94L8.5 2.5l-.94 2.06-2.06.94zm10 10l.94 2.06.94-2.06 2.06-.94-2.06-.94-.94-2.06-.94 2.06-2.06.94z\"/><path d=\"M17.41 7.96l-1.37-1.37c-.4-.4-.92-.59-1.43-.59-.52 0-1.04.2-1.43.59L10.3 9.45l-7.72 7.72c-.78.78-.78 2.05 0 2.83L4 21.41c.39.39.9.59 1.41.59.51 0 1.02-.2 1.41-.59l7.78-7.78 2.81-2.81c.8-.78.8-2.07 0-2.86zM5.41 20L4 18.59l7.72-7.72 1.47 1.35L5.41 20z\"/>\n",
              "  </svg>\n",
              "      </button>\n",
              "      \n",
              "  <style>\n",
              "    .colab-df-container {\n",
              "      display:flex;\n",
              "      flex-wrap:wrap;\n",
              "      gap: 12px;\n",
              "    }\n",
              "\n",
              "    .colab-df-convert {\n",
              "      background-color: #E8F0FE;\n",
              "      border: none;\n",
              "      border-radius: 50%;\n",
              "      cursor: pointer;\n",
              "      display: none;\n",
              "      fill: #1967D2;\n",
              "      height: 32px;\n",
              "      padding: 0 0 0 0;\n",
              "      width: 32px;\n",
              "    }\n",
              "\n",
              "    .colab-df-convert:hover {\n",
              "      background-color: #E2EBFA;\n",
              "      box-shadow: 0px 1px 2px rgba(60, 64, 67, 0.3), 0px 1px 3px 1px rgba(60, 64, 67, 0.15);\n",
              "      fill: #174EA6;\n",
              "    }\n",
              "\n",
              "    [theme=dark] .colab-df-convert {\n",
              "      background-color: #3B4455;\n",
              "      fill: #D2E3FC;\n",
              "    }\n",
              "\n",
              "    [theme=dark] .colab-df-convert:hover {\n",
              "      background-color: #434B5C;\n",
              "      box-shadow: 0px 1px 3px 1px rgba(0, 0, 0, 0.15);\n",
              "      filter: drop-shadow(0px 1px 2px rgba(0, 0, 0, 0.3));\n",
              "      fill: #FFFFFF;\n",
              "    }\n",
              "  </style>\n",
              "\n",
              "      <script>\n",
              "        const buttonEl =\n",
              "          document.querySelector('#df-22460472-8653-411a-b540-4f67b77419de button.colab-df-convert');\n",
              "        buttonEl.style.display =\n",
              "          google.colab.kernel.accessAllowed ? 'block' : 'none';\n",
              "\n",
              "        async function convertToInteractive(key) {\n",
              "          const element = document.querySelector('#df-22460472-8653-411a-b540-4f67b77419de');\n",
              "          const dataTable =\n",
              "            await google.colab.kernel.invokeFunction('convertToInteractive',\n",
              "                                                     [key], {});\n",
              "          if (!dataTable) return;\n",
              "\n",
              "          const docLinkHtml = 'Like what you see? Visit the ' +\n",
              "            '<a target=\"_blank\" href=https://colab.research.google.com/notebooks/data_table.ipynb>data table notebook</a>'\n",
              "            + ' to learn more about interactive tables.';\n",
              "          element.innerHTML = '';\n",
              "          dataTable['output_type'] = 'display_data';\n",
              "          await google.colab.output.renderOutput(dataTable, element);\n",
              "          const docLink = document.createElement('div');\n",
              "          docLink.innerHTML = docLinkHtml;\n",
              "          element.appendChild(docLink);\n",
              "        }\n",
              "      </script>\n",
              "    </div>\n",
              "  </div>\n",
              "  "
            ]
          },
          "metadata": {},
          "execution_count": 3
        }
      ],
      "source": [
        "mlo.head()"
      ]
    },
    {
      "cell_type": "code",
      "execution_count": 4,
      "metadata": {
        "colab": {
          "base_uri": "https://localhost:8080/"
        },
        "id": "A3G06IVbfY6n",
        "outputId": "4ba8af19-0712-4793-f465-5950f384daad"
      },
      "outputs": [
        {
          "output_type": "execute_result",
          "data": {
            "text/plain": [
              "DatetimeIndex(['1958-03-01', '1958-04-01', '1958-05-01', '1958-06-01',\n",
              "               '1958-07-01', '1958-08-01', '1958-09-01', '1958-10-01',\n",
              "               '1958-11-01', '1958-12-01',\n",
              "               ...\n",
              "               '2016-03-01', '2016-04-01', '2016-05-01', '2016-06-01',\n",
              "               '2016-07-01', '2016-08-01', '2016-09-01', '2016-10-01',\n",
              "               '2016-11-01', '2016-12-01'],\n",
              "              dtype='datetime64[ns]', name='Date', length=706, freq=None)"
            ]
          },
          "metadata": {},
          "execution_count": 4
        }
      ],
      "source": [
        "mlo.index"
      ]
    },
    {
      "cell_type": "code",
      "execution_count": 5,
      "metadata": {
        "collapsed": true,
        "id": "-mlT4XfZfY6o"
      },
      "outputs": [],
      "source": [
        "import matplotlib\n",
        "%matplotlib inline"
      ]
    },
    {
      "cell_type": "code",
      "execution_count": 6,
      "metadata": {
        "colab": {
          "base_uri": "https://localhost:8080/",
          "height": 296
        },
        "id": "2QyjAtjNfY6o",
        "outputId": "9a52f2f5-3670-4e0a-a10f-4f374a277182"
      },
      "outputs": [
        {
          "output_type": "execute_result",
          "data": {
            "text/plain": [
              "<matplotlib.axes._subplots.AxesSubplot at 0x7fae32039410>"
            ]
          },
          "metadata": {},
          "execution_count": 6
        },
        {
          "output_type": "display_data",
          "data": {
            "text/plain": [
              "<Figure size 432x288 with 1 Axes>"
            ],
            "image/png": "[encoded data removed]"
          },
          "metadata": {
            "needs_background": "light"
          }
        }
      ],
      "source": [
        "mlo['Average'].plot()"
      ]
    },
    {
      "cell_type": "markdown",
      "metadata": {
        "id": "PnJHMujwfY6o"
      },
      "source": [
        "`mlo['Average']` is a timeseries: it a Series object with an index of dtype `datetime64` (from NumPy)."
      ]
    },
    {
      "cell_type": "code",
      "execution_count": 7,
      "metadata": {
        "colab": {
          "base_uri": "https://localhost:8080/"
        },
        "id": "UAt5YPZEfY6o",
        "outputId": "8da1be35-845a-483c-e5ba-97b50be2c030"
      },
      "outputs": [
        {
          "output_type": "execute_result",
          "data": {
            "text/plain": [
              "DatetimeIndex(['2017-09-01', '2017-09-02', '2017-09-03', '2017-09-04',\n",
              "               '2017-09-05'],\n",
              "              dtype='datetime64[ns]', freq='D')"
            ]
          },
          "metadata": {},
          "execution_count": 7
        }
      ],
      "source": [
        "pd.date_range('2017-09-01', periods=5, freq='D')"
      ]
    },
    {
      "cell_type": "code",
      "execution_count": 8,
      "metadata": {
        "colab": {
          "base_uri": "https://localhost:8080/"
        },
        "id": "1PK8onQqfY6p",
        "outputId": "35797b42-64fc-4a4b-e90e-d181209a5fb9"
      },
      "outputs": [
        {
          "output_type": "execute_result",
          "data": {
            "text/plain": [
              "DatetimeIndex(['2017-09-01 00:00:00', '2017-09-01 01:00:00',\n",
              "               '2017-09-01 02:00:00', '2017-09-01 03:00:00',\n",
              "               '2017-09-01 04:00:00', '2017-09-01 05:00:00',\n",
              "               '2017-09-01 06:00:00', '2017-09-01 07:00:00',\n",
              "               '2017-09-01 08:00:00', '2017-09-01 09:00:00',\n",
              "               '2017-09-01 10:00:00', '2017-09-01 11:00:00',\n",
              "               '2017-09-01 12:00:00', '2017-09-01 13:00:00',\n",
              "               '2017-09-01 14:00:00', '2017-09-01 15:00:00',\n",
              "               '2017-09-01 16:00:00', '2017-09-01 17:00:00',\n",
              "               '2017-09-01 18:00:00', '2017-09-01 19:00:00',\n",
              "               '2017-09-01 20:00:00', '2017-09-01 21:00:00',\n",
              "               '2017-09-01 22:00:00', '2017-09-01 23:00:00'],\n",
              "              dtype='datetime64[ns]', freq='H')"
            ]
          },
          "metadata": {},
          "execution_count": 8
        }
      ],
      "source": [
        "n_hours = 24\n",
        "hour_index = pd.date_range('2017-09-01', periods=n_hours, freq='H')\n",
        "hour_index"
      ]
    },
    {
      "cell_type": "code",
      "execution_count": 9,
      "metadata": {
        "collapsed": true,
        "id": "OrqQgndafY6p"
      },
      "outputs": [],
      "source": [
        "import numpy as np"
      ]
    },
    {
      "cell_type": "code",
      "execution_count": 10,
      "metadata": {
        "colab": {
          "base_uri": "https://localhost:8080/",
          "height": 294
        },
        "id": "luO1m15XfY6p",
        "outputId": "21d875db-8a7a-4868-8de8-a52596470790"
      },
      "outputs": [
        {
          "output_type": "execute_result",
          "data": {
            "text/plain": [
              "<matplotlib.axes._subplots.AxesSubplot at 0x7fae31f4d890>"
            ]
          },
          "metadata": {},
          "execution_count": 10
        },
        {
          "output_type": "display_data",
          "data": {
            "text/plain": [
              "<Figure size 432x288 with 1 Axes>"
            ],
            "image/png": "[encoded data removed]"
          },
          "metadata": {
            "needs_background": "light"
          }
        }
      ],
      "source": [
        "pd.Series(np.random.rand(n_hours), index=hour_index).plot()"
      ]
    },
    {
      "cell_type": "markdown",
      "metadata": {
        "id": "NbVTC5uBfY6p"
      },
      "source": [
        "## Rolling window operations"
      ]
    },
    {
      "cell_type": "markdown",
      "metadata": {
        "id": "oFjAJoSrfY6q"
      },
      "source": [
        "We may want to smooth out seasonal fluctuations by computing a rolling (or moving) average."
      ]
    },
    {
      "cell_type": "code",
      "execution_count": 11,
      "metadata": {
        "colab": {
          "base_uri": "https://localhost:8080/"
        },
        "id": "YGWoh-3dfY6q",
        "outputId": "7f8072bc-3ec0-47a9-94a3-c13f39bf4cbe"
      },
      "outputs": [
        {
          "output_type": "execute_result",
          "data": {
            "text/plain": [
              "True    706\n",
              "Name: Interpolated, dtype: int64"
            ]
          },
          "metadata": {},
          "execution_count": 11
        }
      ],
      "source": [
        "mlo['Interpolated'].notnull().value_counts()"
      ]
    },
    {
      "cell_type": "code",
      "execution_count": 12,
      "metadata": {
        "collapsed": true,
        "id": "DFZTz-DwfY6q"
      },
      "outputs": [],
      "source": [
        "s = mlo['Interpolated']"
      ]
    },
    {
      "cell_type": "code",
      "execution_count": 13,
      "metadata": {
        "colab": {
          "base_uri": "https://localhost:8080/",
          "height": 296
        },
        "id": "fF5Klco3fY6q",
        "outputId": "8d693fbc-f4fa-431b-d276-e9bc2f231d43"
      },
      "outputs": [
        {
          "output_type": "execute_result",
          "data": {
            "text/plain": [
              "<matplotlib.axes._subplots.AxesSubplot at 0x7fae31a73d90>"
            ]
          },
          "metadata": {},
          "execution_count": 13
        },
        {
          "output_type": "display_data",
          "data": {
            "text/plain": [
              "<Figure size 432x288 with 1 Axes>"
            ],
            "image/png": "[encoded data removed]"
          },
          "metadata": {
            "needs_background": "light"
          }
        }
      ],
      "source": [
        "s.plot()"
      ]
    },
    {
      "cell_type": "markdown",
      "metadata": {
        "id": "V-h6nqHufY6q"
      },
      "source": [
        "Let us select only the first two years of the `s` timeseries. Note that string indexing works."
      ]
    },
    {
      "cell_type": "code",
      "execution_count": 14,
      "metadata": {
        "colab": {
          "base_uri": "https://localhost:8080/",
          "height": 308
        },
        "id": "DzylzuaufY6r",
        "outputId": "d5b0a049-c91c-4829-9cb4-4801e4856097"
      },
      "outputs": [
        {
          "output_type": "execute_result",
          "data": {
            "text/plain": [
              "<matplotlib.axes._subplots.AxesSubplot at 0x7fae3198fe90>"
            ]
          },
          "metadata": {},
          "execution_count": 14
        },
        {
          "output_type": "display_data",
          "data": {
            "text/plain": [
              "<Figure size 432x288 with 1 Axes>"
            ],
            "image/png": "[encoded data removed]"
          },
          "metadata": {
            "needs_background": "light"
          }
        }
      ],
      "source": [
        "s[:'1960-03-01'].plot()"
      ]
    },
    {
      "cell_type": "markdown",
      "metadata": {
        "id": "v9LTE-VtfY6r"
      },
      "source": [
        "Even partial string indexing works!"
      ]
    },
    {
      "cell_type": "code",
      "execution_count": 15,
      "metadata": {
        "colab": {
          "base_uri": "https://localhost:8080/",
          "height": 308
        },
        "id": "3SnQ-wxWfY6r",
        "outputId": "753cfa9b-3b80-474d-eefb-9a66f992c5b3"
      },
      "outputs": [
        {
          "output_type": "execute_result",
          "data": {
            "text/plain": [
              "<matplotlib.axes._subplots.AxesSubplot at 0x7fae3196fbd0>"
            ]
          },
          "metadata": {},
          "execution_count": 15
        },
        {
          "output_type": "display_data",
          "data": {
            "text/plain": [
              "<Figure size 432x288 with 1 Axes>"
            ],
            "image/png": "[encoded data removed]"
          },
          "metadata": {
            "needs_background": "light"
          }
        }
      ],
      "source": [
        "s[:'1960-03'].plot()"
      ]
    },
    {
      "cell_type": "code",
      "execution_count": 16,
      "metadata": {
        "colab": {
          "base_uri": "https://localhost:8080/"
        },
        "id": "ggoC_2nefY6r",
        "outputId": "c936e955-284f-43e2-c240-c4b38e98d589"
      },
      "outputs": [
        {
          "output_type": "execute_result",
          "data": {
            "text/plain": [
              "Date\n",
              "1958-03-01           NaN\n",
              "1958-04-01           NaN\n",
              "1958-05-01           NaN\n",
              "1958-06-01           NaN\n",
              "1958-07-01           NaN\n",
              "1958-08-01           NaN\n",
              "1958-09-01           NaN\n",
              "1958-10-01           NaN\n",
              "1958-11-01           NaN\n",
              "1958-12-01           NaN\n",
              "1959-01-01           NaN\n",
              "1959-02-01    315.367500\n",
              "1959-03-01    315.450833\n",
              "1959-04-01    315.473333\n",
              "1959-05-01    315.539167\n",
              "1959-06-01    315.626667\n",
              "1959-07-01    315.683333\n",
              "1959-08-01    315.672500\n",
              "1959-09-01    315.725833\n",
              "1959-10-01    315.775833\n",
              "1959-11-01    315.898333\n",
              "1959-12-01    315.974167\n",
              "1960-01-01    316.041667\n",
              "Name: Interpolated, dtype: float64"
            ]
          },
          "metadata": {},
          "execution_count": 16
        }
      ],
      "source": [
        "s[:'1960-01'].rolling(12).mean()"
      ]
    },
    {
      "cell_type": "code",
      "execution_count": 17,
      "metadata": {
        "colab": {
          "base_uri": "https://localhost:8080/",
          "height": 308
        },
        "id": "QgRhpSscfY6r",
        "outputId": "92d3ff97-d529-47d4-c522-61587e704ce1"
      },
      "outputs": [
        {
          "output_type": "execute_result",
          "data": {
            "text/plain": [
              "<matplotlib.axes._subplots.AxesSubplot at 0x7fae3184a510>"
            ]
          },
          "metadata": {},
          "execution_count": 17
        },
        {
          "output_type": "display_data",
          "data": {
            "text/plain": [
              "<Figure size 432x288 with 1 Axes>"
            ],
            "image/png": "[encoded data removed]"
          },
          "metadata": {
            "needs_background": "light"
          }
        }
      ],
      "source": [
        "s[:'1960-01'].rolling(12).mean().plot()"
      ]
    },
    {
      "cell_type": "code",
      "execution_count": 18,
      "metadata": {
        "colab": {
          "base_uri": "https://localhost:8080/",
          "height": 296
        },
        "id": "tQxBdfR9fY6s",
        "outputId": "cb42698f-4740-4f05-b0d7-145924d63ab3"
      },
      "outputs": [
        {
          "output_type": "execute_result",
          "data": {
            "text/plain": [
              "<matplotlib.axes._subplots.AxesSubplot at 0x7fae31801b90>"
            ]
          },
          "metadata": {},
          "execution_count": 18
        },
        {
          "output_type": "display_data",
          "data": {
            "text/plain": [
              "<Figure size 432x288 with 1 Axes>"
            ],
            "image/png": "[encoded data removed]"
          },
          "metadata": {
            "needs_background": "light"
          }
        }
      ],
      "source": [
        "s.rolling(12).mean().plot()"
      ]
    },
    {
      "cell_type": "markdown",
      "metadata": {
        "id": "lWO7Cfw4fY6s"
      },
      "source": [
        "Let us create a DataFrame which stores `mlo` plus this rolling average in a new column (labelled `smooth`)."
      ]
    },
    {
      "cell_type": "code",
      "execution_count": 19,
      "metadata": {
        "id": "zCsSWPFufY6s"
      },
      "outputs": [],
      "source": [
        "df = mlo.assign(smooth=s.rolling(12).mean())"
      ]
    },
    {
      "cell_type": "code",
      "execution_count": 20,
      "metadata": {
        "colab": {
          "base_uri": "https://localhost:8080/",
          "height": 296
        },
        "id": "TU2ABCNVfY6s",
        "outputId": "b01c68bb-87c8-4764-9ab3-5f3b574ee405"
      },
      "outputs": [
        {
          "output_type": "execute_result",
          "data": {
            "text/plain": [
              "<matplotlib.axes._subplots.AxesSubplot at 0x7fae3170b250>"
            ]
          },
          "metadata": {},
          "execution_count": 20
        },
        {
          "output_type": "display_data",
          "data": {
            "text/plain": [
              "<Figure size 432x288 with 1 Axes>"
            ],
            "image/png": "[encoded data removed]"
          },
          "metadata": {
            "needs_background": "light"
          }
        }
      ],
      "source": [
        "df[['Trend', 'smooth']].plot()"
      ]
    },
    {
      "cell_type": "markdown",
      "metadata": {
        "id": "Ep4uQPh3fY6s"
      },
      "source": [
        "### Hands-on exercises"
      ]
    },
    {
      "cell_type": "markdown",
      "metadata": {
        "id": "uKMae4lUfY6s"
      },
      "source": [
        "1. We can specify a window type when computing the rolling operation. What do you expect `s.rolling(12, win_type='triang').mean()` should yield?\n",
        "2. Plot it to confirm (confront) your assumption. Plot the difference between the above and `mlo['Trend']`."
      ]
    },
    {
      "cell_type": "markdown",
      "metadata": {
        "id": "FJGfRrT7fY6t"
      },
      "source": [
        "## The PeriodIndex object"
      ]
    },
    {
      "cell_type": "markdown",
      "metadata": {
        "id": "c1KZZ9esfY6t"
      },
      "source": [
        "Using `.rolling()` with a time-based index is similar to resampling; `.rolling()` is a time-based window operation, while `.resample()` is a frequency-based window operation."
      ]
    },
    {
      "cell_type": "code",
      "execution_count": 21,
      "metadata": {
        "colab": {
          "base_uri": "https://localhost:8080/"
        },
        "id": "ycqdM_yJfY6t",
        "outputId": "114c230c-18fd-4a0b-c02f-2e70d36bfab2"
      },
      "outputs": [
        {
          "output_type": "execute_result",
          "data": {
            "text/plain": [
              "DatetimeIndex(['1958-03-01', '1958-04-01', '1958-05-01', '1958-06-01',\n",
              "               '1958-07-01', '1958-08-01', '1958-09-01', '1958-10-01',\n",
              "               '1958-11-01', '1958-12-01',\n",
              "               ...\n",
              "               '2016-03-01', '2016-04-01', '2016-05-01', '2016-06-01',\n",
              "               '2016-07-01', '2016-08-01', '2016-09-01', '2016-10-01',\n",
              "               '2016-11-01', '2016-12-01'],\n",
              "              dtype='datetime64[ns]', name='Date', length=706, freq=None)"
            ]
          },
          "metadata": {},
          "execution_count": 21
        }
      ],
      "source": [
        "s.index"
      ]
    },
    {
      "cell_type": "code",
      "execution_count": 22,
      "metadata": {
        "colab": {
          "base_uri": "https://localhost:8080/"
        },
        "id": "8IXztK2rfY6t",
        "outputId": "36fd7aff-30d1-4bd1-c2af-83d270f4e10d"
      },
      "outputs": [
        {
          "output_type": "execute_result",
          "data": {
            "text/plain": [
              "Date\n",
              "1958-03-01    315.71\n",
              "1958-04-01    317.45\n",
              "1958-05-01    317.50\n",
              "1958-06-01    317.10\n",
              "Name: Interpolated, dtype: float64"
            ]
          },
          "metadata": {},
          "execution_count": 22
        }
      ],
      "source": [
        "s['1958-03':'1958-06']"
      ]
    },
    {
      "cell_type": "markdown",
      "metadata": {
        "id": "O4EmNl9OfY6t"
      },
      "source": [
        "Notice that each value is associated with a point in time (most usual type of timeseries data), but really it should be associated with a time interval (value holds for the entire month). Pandas provide a `Period` object, opposite the expected `Timestamp` object."
      ]
    },
    {
      "cell_type": "code",
      "execution_count": 23,
      "metadata": {
        "colab": {
          "base_uri": "https://localhost:8080/"
        },
        "id": "KS7E0WKcfY6t",
        "outputId": "1549725f-694e-462e-c0c7-5113bffb2c9d"
      },
      "outputs": [
        {
          "output_type": "execute_result",
          "data": {
            "text/plain": [
              "Timestamp('1958-03-01 00:00:00')"
            ]
          },
          "metadata": {},
          "execution_count": 23
        }
      ],
      "source": [
        "pd.Timestamp('1958-03-01')"
      ]
    },
    {
      "cell_type": "code",
      "execution_count": 24,
      "metadata": {
        "colab": {
          "base_uri": "https://localhost:8080/"
        },
        "id": "IQgY7YWRfY6u",
        "outputId": "8418bb77-1930-4bb4-bd18-393e990b51c6"
      },
      "outputs": [
        {
          "output_type": "execute_result",
          "data": {
            "text/plain": [
              "Period('1958-03', 'M')"
            ]
          },
          "metadata": {},
          "execution_count": 24
        }
      ],
      "source": [
        "pd.Period('1958-03-01', freq='M')"
      ]
    },
    {
      "cell_type": "code",
      "execution_count": 25,
      "metadata": {
        "colab": {
          "base_uri": "https://localhost:8080/"
        },
        "id": "xeVdfL-lfY6u",
        "outputId": "ff620b18-1bc9-4ff4-94ee-9c2d188a0ee1"
      },
      "outputs": [
        {
          "output_type": "execute_result",
          "data": {
            "text/plain": [
              "PeriodIndex(['1958-03', '1958-04', '1958-05', '1958-06', '1958-07', '1958-08',\n",
              "             '1958-09', '1958-10', '1958-11', '1958-12',\n",
              "             ...\n",
              "             '2016-03', '2016-04', '2016-05', '2016-06', '2016-07', '2016-08',\n",
              "             '2016-09', '2016-10', '2016-11', '2016-12'],\n",
              "            dtype='period[M]', length=706)"
            ]
          },
          "metadata": {},
          "execution_count": 25
        }
      ],
      "source": [
        "monthly_index = pd.period_range('1958-03-01', periods=706, freq='M')\n",
        "monthly_index"
      ]
    },
    {
      "cell_type": "code",
      "execution_count": 26,
      "metadata": {
        "id": "kx9ENxjpfY6u"
      },
      "outputs": [],
      "source": [
        "s.index = monthly_index"
      ]
    },
    {
      "cell_type": "code",
      "execution_count": 27,
      "metadata": {
        "colab": {
          "base_uri": "https://localhost:8080/"
        },
        "id": "gUUIGuc6fY6u",
        "outputId": "89ef1484-2443-49f1-9773-fed2126f12f4"
      },
      "outputs": [
        {
          "output_type": "execute_result",
          "data": {
            "text/plain": [
              "1958-03    315.71\n",
              "1958-04    317.45\n",
              "1958-05    317.50\n",
              "1958-06    317.10\n",
              "1958-07    315.86\n",
              "1958-08    314.93\n",
              "1958-09    313.20\n",
              "1958-10    312.66\n",
              "1958-11    313.33\n",
              "1958-12    314.67\n",
              "Freq: M, Name: Interpolated, dtype: float64"
            ]
          },
          "metadata": {},
          "execution_count": 27
        }
      ],
      "source": [
        "s['1958']"
      ]
    },
    {
      "cell_type": "markdown",
      "metadata": {
        "id": "PAwEKcKMfY6u"
      },
      "source": [
        "## Resampling"
      ]
    },
    {
      "cell_type": "markdown",
      "metadata": {
        "id": "VJBSTlvYfY6u"
      },
      "source": [
        "We can down-sample the timeseries (going to a lower frequency), if we are interested in the minimum value over 3-month bins (for a list of convenient aliases, see http://pandas.pydata.org/pandas-docs/stable/timeseries.html#offset-aliases)."
      ]
    },
    {
      "cell_type": "code",
      "execution_count": 28,
      "metadata": {
        "colab": {
          "base_uri": "https://localhost:8080/"
        },
        "id": "d_hmTekHfY6v",
        "outputId": "ba969c5d-c697-4e3b-e831-fc8388f5b8fb"
      },
      "outputs": [
        {
          "output_type": "execute_result",
          "data": {
            "text/plain": [
              "1958-03    315.71\n",
              "1958-04    317.45\n",
              "1958-05    317.50\n",
              "1958-06    317.10\n",
              "1958-07    315.86\n",
              "1958-08    314.93\n",
              "1958-09    313.20\n",
              "1958-10    312.66\n",
              "1958-11    313.33\n",
              "1958-12    314.67\n",
              "1959-01    315.62\n",
              "1959-02    316.38\n",
              "1959-03    316.71\n",
              "1959-04    317.72\n",
              "1959-05    318.29\n",
              "Freq: M, Name: Interpolated, dtype: float64"
            ]
          },
          "metadata": {},
          "execution_count": 28
        }
      ],
      "source": [
        "s.head(15)"
      ]
    }
  ],
  "metadata": {
    "kernelspec": {
      "display_name": "Python 3",
      "language": "python",
      "name": "python3"
    },
    "language_info": {
      "codemirror_mode": {
        "name": "ipython",
        "version": 3
      },
      "file_extension": ".py",
      "mimetype": "text/x-python",
      "name": "python",
      "nbconvert_exporter": "python",
      "pygments_lexer": "ipython3",
      "version": "3.6.2"
    },
    "colab": {
      "provenance": [],
      "include_colab_link": true
    }
  },
  "nbformat": 4,
  "nbformat_minor": 0
}